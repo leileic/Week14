{
 "cells": [
  {
   "cell_type": "code",
   "execution_count": 2,
   "metadata": {},
   "outputs": [],
   "source": [
    "from langchain_community.document_loaders import TextLoader\n",
    "from langchain_text_splitters import RecursiveCharacterTextSplitter\n",
    "# from langchain_openai import OpenAIEmbeddings\n",
    "from langchain_huggingface import HuggingFaceEmbeddings\n",
    "from langchain_community.vectorstores import Chroma\n",
    "\n",
    "from typing import List\n",
    "from langchain.schema import Document  # Import Document if needed\n",
    "import pandas as pd\n",
    "import os \n"
   ]
  },
  {
   "cell_type": "markdown",
   "metadata": {},
   "source": [
    "### Document Load"
   ]
  },
  {
   "cell_type": "code",
   "execution_count": 3,
   "metadata": {},
   "outputs": [],
   "source": [
    "# Document Load\n",
    "loader = TextLoader('data/Intro.txt')\n",
    "data = loader.load()\n"
   ]
  },
  {
   "cell_type": "code",
   "execution_count": 4,
   "metadata": {},
   "outputs": [
    {
     "data": {
      "text/plain": [
       "[Document(metadata={'source': 'data/Intro.txt'}, page_content='디지털경영, 융합의 시대를 주도합니다.\\n디지털경영전공은 다양한 배경을 가진 학생들이 모여 함께 성장하는 곳입니다. 전공과목은 프로그래밍과 데이터 분석에 필요한 기초 개념과 실습을 체계적으로 학습하도록 구성되어 있습니다. 때문에 문과 출신이더라도 열정과 노력으로 데이터 분석과 프로그래밍을 익힐 수 있습니다. 빅데이터와 인공지능의 기초를 익히고 기업 경영에 활용하는 방법을 익힌다면 여러분 앞에는 성공을 위한 무한한 가능성이 열릴 것입니다. 배우고자 하는 의지가 있고, 열정이 넘치는 모든 학생을 환영합니다.\\n데이터 분석, 이제는 선택이 아니라 필수입니다.\\n과거에 컴맹이라는 말이 있었다면, 이제는 \"데이터맹\"이라는 말을 듣는 시대가 올 것입니다. 기업이 책에 나오는 경영학 이론을 통해 의사결정을 하거나, 몇몇 담당자의 경험에 의존해 의사결정을 하는 시대는 끝났습니다. 기업의 모든 활동이 빅데이터로 축적되며 데이터를 효과적으로 수집, 분석, 활용하여 중요한 의사결정을 하는 Data driven decision making 시대입니다. 따라서, 경영학을 공부하는 학생들에게 데이터분석 능력은 기본 중의 기본이 되었습니다.\\n빅데이터 인공지능과 경영학의 만남을 추구합니다.\\n디지털경영전공은 데이터 분석 능력과 비즈니스 마인드를 겸비한 실무 융합형 인재 양성을 목표로 하고 있습니다. 빅데이터와 인공지능 기술을 마케팅, 금융, 인사조직, 생산운영관리 등 다양한 비즈니스 분야에 적용하여 기업의 성과 향상과 새로운 가치 창출에 기여합니다. 학생들은 머신러닝, 딥러닝, 비쥬얼라이제이션, 최적화 등의 최신 기술을 활용하여 데이터를 분석하고 인사이트를 도출하는 실습 경험을 통해 실무 역량을 강화할 수 있습니다.\\n빅데이터 분석을 통해 가치를 창출하는 DATA ANALYST\\n기업에서 필요한 가치는 인사이트를 통한 비즈니스 액션에 의해 창출됩니다. 빅데이터는 단순히 많이 모아 놓는다고, 기업에게 필요한 가치를 창출 할 수가 없습니다. 때문에 빅데이터로부터 패턴을 찾거나 의미를 찾아 비즈니스에 적용하는 과정이 필요합니다. 바로 이 빅데이터의 특정 패턴이나 의미에서 인사이트(insight)를 얻는 데이터 분석을 DATA ANALYST가 수행하게 됩니다')]"
      ]
     },
     "execution_count": 4,
     "metadata": {},
     "output_type": "execute_result"
    }
   ],
   "source": [
    "data"
   ]
  },
  {
   "cell_type": "markdown",
   "metadata": {},
   "source": [
    "### Text Split"
   ]
  },
  {
   "cell_type": "code",
   "execution_count": 5,
   "metadata": {},
   "outputs": [],
   "source": [
    "text_splitter = RecursiveCharacterTextSplitter.from_tiktoken_encoder(\n",
    "    chunk_size=150,\n",
    "    chunk_overlap=50,\n",
    "    encoding_name='cl100k_base'\n",
    ")\n",
    "\n",
    "texts = text_splitter.split_text(data[0].page_content)"
   ]
  },
  {
   "cell_type": "code",
   "execution_count": 6,
   "metadata": {},
   "outputs": [
    {
     "data": {
      "text/plain": [
       "['디지털경영, 융합의 시대를 주도합니다.',\n",
       " '디지털경영전공은 다양한 배경을 가진 학생들이 모여 함께 성장하는 곳입니다. 전공과목은 프로그래밍과 데이터 분석에 필요한 기초 개념과 실습을 체계적으로 학습하도록 구성되어 있습니다. 때문에 문과 출신이더라도 열정과 노력으로 데이터 분석과 프로그래밍을 익힐 수 있습니다. 빅데이터와 인공지능의 기초를',\n",
       " '열정과 노력으로 데이터 분석과 프로그래밍을 익힐 수 있습니다. 빅데이터와 인공지능의 기초를 익히고 기업 경영에 활용하는 방법을 익힌다면 여러분 앞에는 성공을 위한 무한한 가능성이 열릴 것입니다. 배우고자 하는 의지가 있고, 열정이 넘치는 모든 학생을 환영합니다.',\n",
       " '데이터 분석, 이제는 선택이 아니라 필수입니다.',\n",
       " '과거에 컴맹이라는 말이 있었다면, 이제는 \"데이터맹\"이라는 말을 듣는 시대가 올 것입니다. 기업이 책에 나오는 경영학 이론을 통해 의사결정을 하거나, 몇몇 담당자의 경험에 의존해 의사결정을 하는 시대는 끝났습니다. 기업의 모든 활동이 빅데이터로 축적되며 데이터를 효과적으로 수집,',\n",
       " '하는 시대는 끝났습니다. 기업의 모든 활동이 빅데이터로 축적되며 데이터를 효과적으로 수집, 분석, 활용하여 중요한 의사결정을 하는 Data driven decision making 시대입니다. 따라서, 경영학을 공부하는 학생들에게 데이터분석 능력은 기본 중의 기본이 되었습니다.',\n",
       " '빅데이터 인공지능과 경영학의 만남을 추구합니다.',\n",
       " '디지털경영전공은 데이터 분석 능력과 비즈니스 마인드를 겸비한 실무 융합형 인재 양성을 목표로 하고 있습니다. 빅데이터와 인공지능 기술을 마케팅, 금융, 인사조직, 생산운영관리 등 다양한 비즈니스 분야에 적용하여 기업의 성과 향상과 새로운 가치 창출에 기여합니다.',\n",
       " '등 다양한 비즈니스 분야에 적용하여 기업의 성과 향상과 새로운 가치 창출에 기여합니다. 학생들은 머신러닝, 딥러닝, 비쥬얼라이제이션, 최적화 등의 최신 기술을 활용하여 데이터를 분석하고 인사이트를 도출하는 실습 경험을 통해 실무 역량을 강화할 수 있습니다.',\n",
       " '빅데이터 분석을 통해 가치를 창출하는 DATA ANALYST',\n",
       " '기업에서 필요한 가치는 인사이트를 통한 비즈니스 액션에 의해 창출됩니다. 빅데이터는 단순히 많이 모아 놓는다고, 기업에게 필요한 가치를 창출 할 수가 없습니다. 때문에 빅데이터로부터 패턴을 찾거나 의미를 찾아 비즈니스에 적용하는 과정이 필요합니다. 바로 이 빅데이터의 특정 패턴이나 의미에서',\n",
       " '의미를 찾아 비즈니스에 적용하는 과정이 필요합니다. 바로 이 빅데이터의 특정 패턴이나 의미에서 인사이트(insight)를 얻는 데이터 분석을 DATA ANALYST가 수행하게 됩니다']"
      ]
     },
     "execution_count": 6,
     "metadata": {},
     "output_type": "execute_result"
    }
   ],
   "source": [
    "texts"
   ]
  },
  {
   "cell_type": "code",
   "execution_count": null,
   "metadata": {},
   "outputs": [],
   "source": [
    "# Set the token\n",
    "os.environ[\"HUGGINGFACEHUB_API_TOKEN\"] = '' #본인의 Hugging Face token 입력"
   ]
  },
  {
   "cell_type": "markdown",
   "metadata": {},
   "source": [
    "### Embedding Model"
   ]
  },
  {
   "cell_type": "code",
   "execution_count": 7,
   "metadata": {},
   "outputs": [
    {
     "data": {
      "application/vnd.jupyter.widget-view+json": {
       "model_id": "1ecea198c16c48f998925bad091ed088",
       "version_major": 2,
       "version_minor": 0
      },
      "text/plain": [
       "modules.json:   0%|          | 0.00/229 [00:00<?, ?B/s]"
      ]
     },
     "metadata": {},
     "output_type": "display_data"
    },
    {
     "data": {
      "application/vnd.jupyter.widget-view+json": {
       "model_id": "4c571eb7c03841399fa577486297e665",
       "version_major": 2,
       "version_minor": 0
      },
      "text/plain": [
       "config_sentence_transformers.json:   0%|          | 0.00/123 [00:00<?, ?B/s]"
      ]
     },
     "metadata": {},
     "output_type": "display_data"
    },
    {
     "data": {
      "application/vnd.jupyter.widget-view+json": {
       "model_id": "9093a25eb7d6472d8732fffd9e766790",
       "version_major": 2,
       "version_minor": 0
      },
      "text/plain": [
       "README.md:   0%|          | 0.00/4.49k [00:00<?, ?B/s]"
      ]
     },
     "metadata": {},
     "output_type": "display_data"
    },
    {
     "data": {
      "application/vnd.jupyter.widget-view+json": {
       "model_id": "0beb02dffe93443b99c23e9d27395eed",
       "version_major": 2,
       "version_minor": 0
      },
      "text/plain": [
       "sentence_bert_config.json:   0%|          | 0.00/53.0 [00:00<?, ?B/s]"
      ]
     },
     "metadata": {},
     "output_type": "display_data"
    },
    {
     "data": {
      "application/vnd.jupyter.widget-view+json": {
       "model_id": "1f4dda2a8b3c429f93ba8a68df8f763e",
       "version_major": 2,
       "version_minor": 0
      },
      "text/plain": [
       "config.json:   0%|          | 0.00/744 [00:00<?, ?B/s]"
      ]
     },
     "metadata": {},
     "output_type": "display_data"
    },
    {
     "data": {
      "application/vnd.jupyter.widget-view+json": {
       "model_id": "67cf051e7efb4dfba300373621c57a43",
       "version_major": 2,
       "version_minor": 0
      },
      "text/plain": [
       "pytorch_model.bin:   0%|          | 0.00/443M [00:00<?, ?B/s]"
      ]
     },
     "metadata": {},
     "output_type": "display_data"
    },
    {
     "data": {
      "application/vnd.jupyter.widget-view+json": {
       "model_id": "2e556d184d3d4e0c85b55018b39e4274",
       "version_major": 2,
       "version_minor": 0
      },
      "text/plain": [
       "tokenizer_config.json:   0%|          | 0.00/585 [00:00<?, ?B/s]"
      ]
     },
     "metadata": {},
     "output_type": "display_data"
    },
    {
     "data": {
      "application/vnd.jupyter.widget-view+json": {
       "model_id": "bdd071b82cf14a55a212f3cecd47f70a",
       "version_major": 2,
       "version_minor": 0
      },
      "text/plain": [
       "vocab.txt:   0%|          | 0.00/248k [00:00<?, ?B/s]"
      ]
     },
     "metadata": {},
     "output_type": "display_data"
    },
    {
     "name": "stderr",
     "output_type": "stream",
     "text": [
      "Error while downloading from https://huggingface.co/jhgan/ko-sroberta-nli/resolve/main/vocab.txt: [SSL] record layer failure (_ssl.c:2637)\n",
      "Trying to resume download...\n"
     ]
    },
    {
     "data": {
      "application/vnd.jupyter.widget-view+json": {
       "model_id": "6a0e9226ca7f4f5c9774149d88b5b43f",
       "version_major": 2,
       "version_minor": 0
      },
      "text/plain": [
       "vocab.txt:   0%|          | 0.00/248k [00:00<?, ?B/s]"
      ]
     },
     "metadata": {},
     "output_type": "display_data"
    },
    {
     "data": {
      "application/vnd.jupyter.widget-view+json": {
       "model_id": "853e56be027a4bb2afb12429cec1cc2c",
       "version_major": 2,
       "version_minor": 0
      },
      "text/plain": [
       "tokenizer.json:   0%|          | 0.00/495k [00:00<?, ?B/s]"
      ]
     },
     "metadata": {},
     "output_type": "display_data"
    },
    {
     "data": {
      "application/vnd.jupyter.widget-view+json": {
       "model_id": "e04871d081044d07972d989346f8154a",
       "version_major": 2,
       "version_minor": 0
      },
      "text/plain": [
       "special_tokens_map.json:   0%|          | 0.00/156 [00:00<?, ?B/s]"
      ]
     },
     "metadata": {},
     "output_type": "display_data"
    },
    {
     "data": {
      "application/vnd.jupyter.widget-view+json": {
       "model_id": "cb18f24578a840caa355002e27a77e18",
       "version_major": 2,
       "version_minor": 0
      },
      "text/plain": [
       "1_Pooling/config.json:   0%|          | 0.00/190 [00:00<?, ?B/s]"
      ]
     },
     "metadata": {},
     "output_type": "display_data"
    }
   ],
   "source": [
    "embeddings_model = HuggingFaceEmbeddings(\n",
    "        model_name='jhgan/ko-sroberta-nli',\n",
    "        huggingfacehub_api_token=os.environ[\"HUGGINGFACEHUB_API_TOKEN\"],\n",
    "        model_kwargs={'device':'cpu'},\n",
    "        encode_kwargs={'normalize_embeddings':True}\n",
    "    )"
   ]
  },
  {
   "cell_type": "markdown",
   "metadata": {},
   "source": [
    "#### Test Embedding query"
   ]
  },
  {
   "cell_type": "code",
   "execution_count": 11,
   "metadata": {},
   "outputs": [
    {
     "name": "stdout",
     "output_type": "stream",
     "text": [
      "디지털경영, 융합의 시대를 주도합니다.\n"
     ]
    },
    {
     "data": {
      "text/plain": [
       "[0.012461068108677864, 0.02521030604839325, 0.04584038257598877]"
      ]
     },
     "execution_count": 11,
     "metadata": {},
     "output_type": "execute_result"
    }
   ],
   "source": [
    "print(texts[0])\n",
    "embeddings_model.embed_query(texts[0])[:3]"
   ]
  },
  {
   "cell_type": "code",
   "execution_count": 12,
   "metadata": {},
   "outputs": [
    {
     "data": {
      "text/plain": [
       "768"
      ]
     },
     "execution_count": 12,
     "metadata": {},
     "output_type": "execute_result"
    }
   ],
   "source": [
    "# Vectorized size\n",
    "len(embeddings_model.embed_query(texts[0]))"
   ]
  },
  {
   "cell_type": "markdown",
   "metadata": {},
   "source": [
    "### Create Vector DB with test"
   ]
  },
  {
   "cell_type": "code",
   "execution_count": 13,
   "metadata": {},
   "outputs": [
    {
     "data": {
      "text/plain": [
       "<langchain_community.vectorstores.chroma.Chroma at 0x1192ea730>"
      ]
     },
     "execution_count": 13,
     "metadata": {},
     "output_type": "execute_result"
    }
   ],
   "source": [
    "db = Chroma.from_texts(\n",
    "    texts, \n",
    "    embeddings_model,\n",
    "    collection_name = 'history',\n",
    "    persist_directory = './db/chromadb',\n",
    "    collection_metadata = {'hnsw:space': 'cosine'}, # l2 is the default\n",
    ")\n",
    "\n",
    "db"
   ]
  },
  {
   "cell_type": "markdown",
   "metadata": {},
   "source": [
    "### Search Query"
   ]
  },
  {
   "cell_type": "code",
   "execution_count": 15,
   "metadata": {},
   "outputs": [
    {
     "name": "stdout",
     "output_type": "stream",
     "text": [
      "디지털경영전공은 데이터 분석 능력과 비즈니스 마인드를 겸비한 실무 융합형 인재 양성을 목표로 하고 있습니다. 빅데이터와 인공지능 기술을 마케팅, 금융, 인사조직, 생산운영관리 등 다양한 비즈니스 분야에 적용하여 기업의 성과 향상과 새로운 가치 창출에 기여합니다.\n"
     ]
    }
   ],
   "source": [
    "query = '디지털경영전공은 무엇인가요?'\n",
    "docs = db.similarity_search(query)\n",
    "print(docs[0].page_content)"
   ]
  },
  {
   "cell_type": "code",
   "execution_count": 16,
   "metadata": {},
   "outputs": [
    {
     "data": {
      "text/plain": [
       "[Document(metadata={}, page_content='디지털경영전공은 데이터 분석 능력과 비즈니스 마인드를 겸비한 실무 융합형 인재 양성을 목표로 하고 있습니다. 빅데이터와 인공지능 기술을 마케팅, 금융, 인사조직, 생산운영관리 등 다양한 비즈니스 분야에 적용하여 기업의 성과 향상과 새로운 가치 창출에 기여합니다.'),\n",
       " Document(metadata={}, page_content='디지털경영, 융합의 시대를 주도합니다.'),\n",
       " Document(metadata={}, page_content='디지털경영전공은 다양한 배경을 가진 학생들이 모여 함께 성장하는 곳입니다. 전공과목은 프로그래밍과 데이터 분석에 필요한 기초 개념과 실습을 체계적으로 학습하도록 구성되어 있습니다. 때문에 문과 출신이더라도 열정과 노력으로 데이터 분석과 프로그래밍을 익힐 수 있습니다. 빅데이터와 인공지능의 기초를'),\n",
       " Document(metadata={}, page_content='빅데이터 인공지능과 경영학의 만남을 추구합니다.')]"
      ]
     },
     "execution_count": 16,
     "metadata": {},
     "output_type": "execute_result"
    }
   ],
   "source": [
    "docs"
   ]
  },
  {
   "cell_type": "code",
   "execution_count": 17,
   "metadata": {},
   "outputs": [
    {
     "name": "stdout",
     "output_type": "stream",
     "text": [
      "의미를 찾아 비즈니스에 적용하는 과정이 필요합니다. 바로 이 빅데이터의 특정 패턴이나 의미에서 인사이트(insight)를 얻는 데이터 분석을 DATA ANALYST가 수행하게 됩니다\n"
     ]
    }
   ],
   "source": [
    "query = '데이터분석과 빅데이터는 무슨 상관인가요'\n",
    "docs = db.similarity_search(query)\n",
    "print(docs[0].page_content)"
   ]
  },
  {
   "cell_type": "code",
   "execution_count": null,
   "metadata": {},
   "outputs": [],
   "source": []
  }
 ],
 "metadata": {
  "kernelspec": {
   "display_name": "data-env01",
   "language": "python",
   "name": "python3"
  },
  "language_info": {
   "codemirror_mode": {
    "name": "ipython",
    "version": 3
   },
   "file_extension": ".py",
   "mimetype": "text/x-python",
   "name": "python",
   "nbconvert_exporter": "python",
   "pygments_lexer": "ipython3",
   "version": "3.9.19"
  }
 },
 "nbformat": 4,
 "nbformat_minor": 2
}
